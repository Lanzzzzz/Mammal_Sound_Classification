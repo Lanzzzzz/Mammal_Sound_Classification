{
 "cells": [
  {
   "cell_type": "markdown",
   "metadata": {},
   "source": [
    "# Reload MFCC DataFrame"
   ]
  },
  {
   "cell_type": "code",
   "execution_count": 1,
   "metadata": {
    "ExecuteTime": {
     "end_time": "2021-02-05T00:26:11.644177Z",
     "start_time": "2021-02-05T00:26:10.429108Z"
    }
   },
   "outputs": [
    {
     "data": {
      "text/html": [
       "<div>\n",
       "<style scoped>\n",
       "    .dataframe tbody tr th:only-of-type {\n",
       "        vertical-align: middle;\n",
       "    }\n",
       "\n",
       "    .dataframe tbody tr th {\n",
       "        vertical-align: top;\n",
       "    }\n",
       "\n",
       "    .dataframe thead th {\n",
       "        text-align: right;\n",
       "    }\n",
       "</style>\n",
       "<table border=\"1\" class=\"dataframe\">\n",
       "  <thead>\n",
       "    <tr style=\"text-align: right;\">\n",
       "      <th></th>\n",
       "      <th>MFCC</th>\n",
       "      <th>class_label</th>\n",
       "    </tr>\n",
       "  </thead>\n",
       "  <tbody>\n",
       "    <tr>\n",
       "      <th>0</th>\n",
       "      <td>[-267.63034, 44.246216, 7.417145, 41.1478, 8.3...</td>\n",
       "      <td>Atlantic Spotted Dolphin</td>\n",
       "    </tr>\n",
       "    <tr>\n",
       "      <th>1</th>\n",
       "      <td>[-264.33713, 40.970325, 26.28316, 22.650043, 1...</td>\n",
       "      <td>Atlantic Spotted Dolphin</td>\n",
       "    </tr>\n",
       "    <tr>\n",
       "      <th>2</th>\n",
       "      <td>[-270.84164, 45.36312, 30.27132, 25.993517, 9....</td>\n",
       "      <td>Atlantic Spotted Dolphin</td>\n",
       "    </tr>\n",
       "    <tr>\n",
       "      <th>3</th>\n",
       "      <td>[-239.04887, 16.58756, 5.6849847, 60.08927, 1....</td>\n",
       "      <td>Atlantic Spotted Dolphin</td>\n",
       "    </tr>\n",
       "    <tr>\n",
       "      <th>4</th>\n",
       "      <td>[-261.11877, 46.700287, 2.229831, 46.741135, 7...</td>\n",
       "      <td>Atlantic Spotted Dolphin</td>\n",
       "    </tr>\n",
       "    <tr>\n",
       "      <th>...</th>\n",
       "      <td>...</td>\n",
       "      <td>...</td>\n",
       "    </tr>\n",
       "    <tr>\n",
       "      <th>1613</th>\n",
       "      <td>[-189.32501, 41.65219, -33.833813, -22.622475,...</td>\n",
       "      <td>White-sided Dolphin</td>\n",
       "    </tr>\n",
       "    <tr>\n",
       "      <th>1614</th>\n",
       "      <td>[-179.45438, 23.963741, -27.340471, -31.353207...</td>\n",
       "      <td>White-sided Dolphin</td>\n",
       "    </tr>\n",
       "    <tr>\n",
       "      <th>1615</th>\n",
       "      <td>[-192.41606, 26.796412, -31.112402, -22.374115...</td>\n",
       "      <td>White-sided Dolphin</td>\n",
       "    </tr>\n",
       "    <tr>\n",
       "      <th>1616</th>\n",
       "      <td>[-196.49988, 36.064262, -35.29801, -25.686985,...</td>\n",
       "      <td>White-sided Dolphin</td>\n",
       "    </tr>\n",
       "    <tr>\n",
       "      <th>1617</th>\n",
       "      <td>[-203.22202, 36.12456, -34.162476, -27.474533,...</td>\n",
       "      <td>White-sided Dolphin</td>\n",
       "    </tr>\n",
       "  </tbody>\n",
       "</table>\n",
       "<p>1618 rows × 2 columns</p>\n",
       "</div>"
      ],
      "text/plain": [
       "                                                   MFCC  \\\n",
       "0     [-267.63034, 44.246216, 7.417145, 41.1478, 8.3...   \n",
       "1     [-264.33713, 40.970325, 26.28316, 22.650043, 1...   \n",
       "2     [-270.84164, 45.36312, 30.27132, 25.993517, 9....   \n",
       "3     [-239.04887, 16.58756, 5.6849847, 60.08927, 1....   \n",
       "4     [-261.11877, 46.700287, 2.229831, 46.741135, 7...   \n",
       "...                                                 ...   \n",
       "1613  [-189.32501, 41.65219, -33.833813, -22.622475,...   \n",
       "1614  [-179.45438, 23.963741, -27.340471, -31.353207...   \n",
       "1615  [-192.41606, 26.796412, -31.112402, -22.374115...   \n",
       "1616  [-196.49988, 36.064262, -35.29801, -25.686985,...   \n",
       "1617  [-203.22202, 36.12456, -34.162476, -27.474533,...   \n",
       "\n",
       "                   class_label  \n",
       "0     Atlantic Spotted Dolphin  \n",
       "1     Atlantic Spotted Dolphin  \n",
       "2     Atlantic Spotted Dolphin  \n",
       "3     Atlantic Spotted Dolphin  \n",
       "4     Atlantic Spotted Dolphin  \n",
       "...                        ...  \n",
       "1613       White-sided Dolphin  \n",
       "1614       White-sided Dolphin  \n",
       "1615       White-sided Dolphin  \n",
       "1616       White-sided Dolphin  \n",
       "1617       White-sided Dolphin  \n",
       "\n",
       "[1618 rows x 2 columns]"
      ]
     },
     "execution_count": 1,
     "metadata": {},
     "output_type": "execute_result"
    },
    {
     "data": {
      "text/plain": [
       "LabelEncoder()"
      ]
     },
     "execution_count": 1,
     "metadata": {},
     "output_type": "execute_result"
    },
    {
     "data": {
      "text/plain": [
       "array(['Atlantic Spotted Dolphin', 'Bearded Seal', 'Bottlenose Dolphin',\n",
       "       'Bowhead Whale', 'Clymene Dolphin', 'Common Dolphin',\n",
       "       'False Killer Whale', 'Finback Whale', \"Fraser's Dolphin\",\n",
       "       'Harp Seal', 'Humpback Whale', 'Killer Whale',\n",
       "       'Long-Finned Pilot Whale', 'Melon Headed Whale', 'Narwhal',\n",
       "       'Northern Right Whale', 'Pantropical Spotted Dolphin',\n",
       "       \"Risso's Dolphin\", 'Ross Seal', 'Rough-Toothed Dolphin',\n",
       "       'Short-Finned (Pacific) Pilot Whale', 'Southern Right Whale',\n",
       "       'Sperm Whale', 'Spinner Dolphin', 'Striped Dolphin', 'Walrus',\n",
       "       'White Whale', 'White-beaked Dolphin', 'White-sided Dolphin'],\n",
       "      dtype=object)"
      ]
     },
     "execution_count": 1,
     "metadata": {},
     "output_type": "execute_result"
    }
   ],
   "source": [
    "%store -r MFCC_df\n",
    "MFCC_df\n",
    "\n",
    "from sklearn.preprocessing import LabelEncoder\n",
    "\n",
    "#create lable encoder\n",
    "le = LabelEncoder()\n",
    "le.fit(MFCC_df.class_label)\n",
    "le.classes_"
   ]
  },
  {
   "cell_type": "code",
   "execution_count": 2,
   "metadata": {},
   "outputs": [
    {
     "data": {
      "text/plain": [
       "array([[ 0.04222947, -0.05240958,  0.40896568, ..., -0.04927192,\n",
       "        -0.45479158,  0.43695181],\n",
       "       [ 0.06778834, -0.09074049,  0.84672224, ...,  0.09927784,\n",
       "        -0.20974829,  0.42098164],\n",
       "       [ 0.01730629, -0.03934077,  0.93926132, ...,  0.31068359,\n",
       "         0.16298675,  0.46140578],\n",
       "       ...,\n",
       "       [ 0.62597317, -0.2565882 , -0.4850526 , ...,  0.27442151,\n",
       "         0.57142228,  1.19160667],\n",
       "       [ 0.59427836, -0.1481459 , -0.58217317, ...,  1.1880168 ,\n",
       "         0.55528364,  0.68430603],\n",
       "       [ 0.54210735, -0.14744035, -0.55582482, ...,  0.70224483,\n",
       "         0.42087748,  0.7720052 ]])"
      ]
     },
     "execution_count": 2,
     "metadata": {},
     "output_type": "execute_result"
    }
   ],
   "source": [
    "# test StandardScaler\n",
    "\n",
    "import pandas as pd\n",
    "#pd.DataFrame(MFCC_df.MFCC[0])\n",
    "from sklearn.preprocessing import StandardScaler\n",
    "#MFCC_df.MFCC.to_list()\n",
    "ss = StandardScaler().fit(MFCC_df.MFCC.to_list())\n",
    "ss.transform(MFCC_df.MFCC.to_list())"
   ]
  },
  {
   "cell_type": "code",
   "execution_count": 25,
   "metadata": {},
   "outputs": [
    {
     "data": {
      "text/plain": [
       "LabelEncoder()"
      ]
     },
     "execution_count": 25,
     "metadata": {},
     "output_type": "execute_result"
    },
    {
     "data": {
      "text/plain": [
       "array([\"Fraser's Dolphin\", 'Spinner Dolphin'], dtype=object)"
      ]
     },
     "execution_count": 25,
     "metadata": {},
     "output_type": "execute_result"
    }
   ],
   "source": [
    "# test binary classification, only keeps two class\n",
    "value_counts = MFCC_df.class_label.value_counts()\n",
    "binary_MFCC_df = MFCC_df[~MFCC_df['class_label'].isin(value_counts[value_counts < 83].index)]\n",
    "le_binary = LabelEncoder()\n",
    "le_binary.fit(binary_MFCC_df.class_label)\n",
    "le_binary.classes_\n",
    "train_set_binary,test_set_binary=train_test_split(binary_MFCC_df,test_size=0.2,random_state=123)\n",
    "x_binary_train = np.array(train_set_binary.MFCC.tolist())\n",
    "y_binary_train = le_binary.transform(np.array(train_set_binary.class_label.tolist()))\n",
    "x_binary_test = np.array(test_set_binary.MFCC.tolist())\n",
    "y_binary_test = le_binary.transform(np.array(test_set_binary.class_label.tolist()))"
   ]
  },
  {
   "cell_type": "markdown",
   "metadata": {},
   "source": [
    "# Split Data"
   ]
  },
  {
   "cell_type": "markdown",
   "metadata": {
    "ExecuteTime": {
     "end_time": "2021-01-21T20:59:55.316148Z",
     "start_time": "2021-01-21T20:59:55.312148Z"
    }
   },
   "source": [
    "## Random Split"
   ]
  },
  {
   "cell_type": "code",
   "execution_count": 4,
   "metadata": {
    "ExecuteTime": {
     "end_time": "2021-02-05T00:26:21.292729Z",
     "start_time": "2021-02-05T00:26:21.203724Z"
    }
   },
   "outputs": [
    {
     "data": {
      "text/html": [
       "<div>\n",
       "<style scoped>\n",
       "    .dataframe tbody tr th:only-of-type {\n",
       "        vertical-align: middle;\n",
       "    }\n",
       "\n",
       "    .dataframe tbody tr th {\n",
       "        vertical-align: top;\n",
       "    }\n",
       "\n",
       "    .dataframe thead th {\n",
       "        text-align: right;\n",
       "    }\n",
       "</style>\n",
       "<table border=\"1\" class=\"dataframe\">\n",
       "  <thead>\n",
       "    <tr style=\"text-align: right;\">\n",
       "      <th></th>\n",
       "      <th>MFCC</th>\n",
       "      <th>class_label</th>\n",
       "    </tr>\n",
       "  </thead>\n",
       "  <tbody>\n",
       "    <tr>\n",
       "      <th>824</th>\n",
       "      <td>[-28.028862, 32.17635, 14.691627, 11.739697, -...</td>\n",
       "      <td>Melon Headed Whale</td>\n",
       "    </tr>\n",
       "    <tr>\n",
       "      <th>857</th>\n",
       "      <td>[-224.48288, 52.32915, 19.997164, 12.00559, 7....</td>\n",
       "      <td>Narwhal</td>\n",
       "    </tr>\n",
       "    <tr>\n",
       "      <th>116</th>\n",
       "      <td>[-131.56389, 131.35234, -11.164649, 38.738487,...</td>\n",
       "      <td>White Whale</td>\n",
       "    </tr>\n",
       "    <tr>\n",
       "      <th>928</th>\n",
       "      <td>[-240.76402, 216.40302, -6.1017833, 36.19306, ...</td>\n",
       "      <td>Northern Right Whale</td>\n",
       "    </tr>\n",
       "    <tr>\n",
       "      <th>893</th>\n",
       "      <td>[-66.87378, 38.03355, -25.403458, 22.998562, -...</td>\n",
       "      <td>Narwhal</td>\n",
       "    </tr>\n",
       "    <tr>\n",
       "      <th>...</th>\n",
       "      <td>...</td>\n",
       "      <td>...</td>\n",
       "    </tr>\n",
       "    <tr>\n",
       "      <th>1122</th>\n",
       "      <td>[-269.70218, 44.728638, 4.102123, 5.605767, -0...</td>\n",
       "      <td>Rough-Toothed Dolphin</td>\n",
       "    </tr>\n",
       "    <tr>\n",
       "      <th>1346</th>\n",
       "      <td>[-238.86821, -15.60567, 30.59243, 17.768955, 2...</td>\n",
       "      <td>Spinner Dolphin</td>\n",
       "    </tr>\n",
       "    <tr>\n",
       "      <th>1406</th>\n",
       "      <td>[-260.70355, -126.56804, -103.56169, -14.81516...</td>\n",
       "      <td>Striped Dolphin</td>\n",
       "    </tr>\n",
       "    <tr>\n",
       "      <th>1389</th>\n",
       "      <td>[-229.7787, -126.87282, -111.707016, -16.80273...</td>\n",
       "      <td>Striped Dolphin</td>\n",
       "    </tr>\n",
       "    <tr>\n",
       "      <th>1534</th>\n",
       "      <td>[-280.1928, -123.31099, -118.11118, -2.8703206...</td>\n",
       "      <td>White-beaked Dolphin</td>\n",
       "    </tr>\n",
       "  </tbody>\n",
       "</table>\n",
       "<p>1294 rows × 2 columns</p>\n",
       "</div>"
      ],
      "text/plain": [
       "                                                   MFCC            class_label\n",
       "824   [-28.028862, 32.17635, 14.691627, 11.739697, -...     Melon Headed Whale\n",
       "857   [-224.48288, 52.32915, 19.997164, 12.00559, 7....                Narwhal\n",
       "116   [-131.56389, 131.35234, -11.164649, 38.738487,...            White Whale\n",
       "928   [-240.76402, 216.40302, -6.1017833, 36.19306, ...   Northern Right Whale\n",
       "893   [-66.87378, 38.03355, -25.403458, 22.998562, -...                Narwhal\n",
       "...                                                 ...                    ...\n",
       "1122  [-269.70218, 44.728638, 4.102123, 5.605767, -0...  Rough-Toothed Dolphin\n",
       "1346  [-238.86821, -15.60567, 30.59243, 17.768955, 2...        Spinner Dolphin\n",
       "1406  [-260.70355, -126.56804, -103.56169, -14.81516...        Striped Dolphin\n",
       "1389  [-229.7787, -126.87282, -111.707016, -16.80273...        Striped Dolphin\n",
       "1534  [-280.1928, -123.31099, -118.11118, -2.8703206...   White-beaked Dolphin\n",
       "\n",
       "[1294 rows x 2 columns]"
      ]
     },
     "execution_count": 4,
     "metadata": {},
     "output_type": "execute_result"
    },
    {
     "data": {
      "text/html": [
       "<div>\n",
       "<style scoped>\n",
       "    .dataframe tbody tr th:only-of-type {\n",
       "        vertical-align: middle;\n",
       "    }\n",
       "\n",
       "    .dataframe tbody tr th {\n",
       "        vertical-align: top;\n",
       "    }\n",
       "\n",
       "    .dataframe thead th {\n",
       "        text-align: right;\n",
       "    }\n",
       "</style>\n",
       "<table border=\"1\" class=\"dataframe\">\n",
       "  <thead>\n",
       "    <tr style=\"text-align: right;\">\n",
       "      <th></th>\n",
       "      <th>MFCC</th>\n",
       "      <th>class_label</th>\n",
       "    </tr>\n",
       "  </thead>\n",
       "  <tbody>\n",
       "    <tr>\n",
       "      <th>457</th>\n",
       "      <td>[-161.72356, 7.100871, 19.71363, 5.8479557, -8...</td>\n",
       "      <td>Fraser's Dolphin</td>\n",
       "    </tr>\n",
       "    <tr>\n",
       "      <th>748</th>\n",
       "      <td>[-256.36993, 40.669415, 9.495581, 25.964401, 2...</td>\n",
       "      <td>Long-Finned Pilot Whale</td>\n",
       "    </tr>\n",
       "    <tr>\n",
       "      <th>704</th>\n",
       "      <td>[-133.72849, 82.618614, 9.545635, 13.479022, 1...</td>\n",
       "      <td>Killer Whale</td>\n",
       "    </tr>\n",
       "    <tr>\n",
       "      <th>1296</th>\n",
       "      <td>[-200.42154, 23.584698, 39.514294, 31.551785, ...</td>\n",
       "      <td>Spinner Dolphin</td>\n",
       "    </tr>\n",
       "    <tr>\n",
       "      <th>1392</th>\n",
       "      <td>[-257.7038, -130.40883, -105.55423, -23.504166...</td>\n",
       "      <td>Striped Dolphin</td>\n",
       "    </tr>\n",
       "    <tr>\n",
       "      <th>...</th>\n",
       "      <td>...</td>\n",
       "      <td>...</td>\n",
       "    </tr>\n",
       "    <tr>\n",
       "      <th>958</th>\n",
       "      <td>[-281.30194, -51.11833, -60.715134, -29.866772...</td>\n",
       "      <td>Pantropical Spotted Dolphin</td>\n",
       "    </tr>\n",
       "    <tr>\n",
       "      <th>72</th>\n",
       "      <td>[-300.63785, 210.01224, -126.76258, 71.151886,...</td>\n",
       "      <td>Bearded Seal</td>\n",
       "    </tr>\n",
       "    <tr>\n",
       "      <th>466</th>\n",
       "      <td>[-139.0789, 22.625498, 22.757442, 9.805209, -0...</td>\n",
       "      <td>Fraser's Dolphin</td>\n",
       "    </tr>\n",
       "    <tr>\n",
       "      <th>1284</th>\n",
       "      <td>[-203.2916, 35.21191, 33.837044, 34.79334, 6.9...</td>\n",
       "      <td>Spinner Dolphin</td>\n",
       "    </tr>\n",
       "    <tr>\n",
       "      <th>1364</th>\n",
       "      <td>[-269.46268, 0.6538462, 25.357302, 18.39227, 7...</td>\n",
       "      <td>Spinner Dolphin</td>\n",
       "    </tr>\n",
       "  </tbody>\n",
       "</table>\n",
       "<p>324 rows × 2 columns</p>\n",
       "</div>"
      ],
      "text/plain": [
       "                                                   MFCC  \\\n",
       "457   [-161.72356, 7.100871, 19.71363, 5.8479557, -8...   \n",
       "748   [-256.36993, 40.669415, 9.495581, 25.964401, 2...   \n",
       "704   [-133.72849, 82.618614, 9.545635, 13.479022, 1...   \n",
       "1296  [-200.42154, 23.584698, 39.514294, 31.551785, ...   \n",
       "1392  [-257.7038, -130.40883, -105.55423, -23.504166...   \n",
       "...                                                 ...   \n",
       "958   [-281.30194, -51.11833, -60.715134, -29.866772...   \n",
       "72    [-300.63785, 210.01224, -126.76258, 71.151886,...   \n",
       "466   [-139.0789, 22.625498, 22.757442, 9.805209, -0...   \n",
       "1284  [-203.2916, 35.21191, 33.837044, 34.79334, 6.9...   \n",
       "1364  [-269.46268, 0.6538462, 25.357302, 18.39227, 7...   \n",
       "\n",
       "                      class_label  \n",
       "457              Fraser's Dolphin  \n",
       "748       Long-Finned Pilot Whale  \n",
       "704                  Killer Whale  \n",
       "1296              Spinner Dolphin  \n",
       "1392              Striped Dolphin  \n",
       "...                           ...  \n",
       "958   Pantropical Spotted Dolphin  \n",
       "72                   Bearded Seal  \n",
       "466              Fraser's Dolphin  \n",
       "1284              Spinner Dolphin  \n",
       "1364              Spinner Dolphin  \n",
       "\n",
       "[324 rows x 2 columns]"
      ]
     },
     "execution_count": 4,
     "metadata": {},
     "output_type": "execute_result"
    }
   ],
   "source": [
    "from sklearn.model_selection import train_test_split\n",
    "\n",
    "train_set_random,test_set_random=train_test_split(MFCC_df,test_size=0.2,random_state=123)\n",
    "train_set_random\n",
    "test_set_random"
   ]
  },
  {
   "cell_type": "code",
   "execution_count": 5,
   "metadata": {
    "ExecuteTime": {
     "end_time": "2021-02-05T00:26:24.680923Z",
     "start_time": "2021-02-05T00:26:24.667922Z"
    }
   },
   "outputs": [],
   "source": [
    "x_train_random = np.array(train_set_random.MFCC.tolist())\n",
    "y_train_random = le.transform(np.array(train_set_random.class_label.tolist()))\n",
    "x_test_random = np.array(test_set_random.MFCC.tolist())\n",
    "y_test_random = le.transform(np.array(test_set_random.class_label.tolist()))"
   ]
  },
  {
   "cell_type": "markdown",
   "metadata": {},
   "source": [
    "## Stratified Split"
   ]
  },
  {
   "cell_type": "code",
   "execution_count": 6,
   "metadata": {
    "ExecuteTime": {
     "end_time": "2021-02-05T00:26:26.533029Z",
     "start_time": "2021-02-05T00:26:26.492026Z"
    }
   },
   "outputs": [
    {
     "data": {
      "text/html": [
       "<div>\n",
       "<style scoped>\n",
       "    .dataframe tbody tr th:only-of-type {\n",
       "        vertical-align: middle;\n",
       "    }\n",
       "\n",
       "    .dataframe tbody tr th {\n",
       "        vertical-align: top;\n",
       "    }\n",
       "\n",
       "    .dataframe thead th {\n",
       "        text-align: right;\n",
       "    }\n",
       "</style>\n",
       "<table border=\"1\" class=\"dataframe\">\n",
       "  <thead>\n",
       "    <tr style=\"text-align: right;\">\n",
       "      <th></th>\n",
       "      <th>MFCC</th>\n",
       "      <th>class_label</th>\n",
       "    </tr>\n",
       "  </thead>\n",
       "  <tbody>\n",
       "    <tr>\n",
       "      <th>1040</th>\n",
       "      <td>[-130.0061, 103.98132, -36.82569, 22.608412, -...</td>\n",
       "      <td>Ross Seal</td>\n",
       "    </tr>\n",
       "    <tr>\n",
       "      <th>1527</th>\n",
       "      <td>[-127.93521, 73.30445, -16.630316, 2.7073627, ...</td>\n",
       "      <td>White-beaked Dolphin</td>\n",
       "    </tr>\n",
       "    <tr>\n",
       "      <th>1188</th>\n",
       "      <td>[-356.87976, 184.95625, 41.824856, 0.19870812,...</td>\n",
       "      <td>Southern Right Whale</td>\n",
       "    </tr>\n",
       "    <tr>\n",
       "      <th>367</th>\n",
       "      <td>[-324.19498, 22.29798, -30.63091, -28.03511, -...</td>\n",
       "      <td>False Killer Whale</td>\n",
       "    </tr>\n",
       "    <tr>\n",
       "      <th>285</th>\n",
       "      <td>[-154.73775, 113.10654, 14.46577, 29.734438, 2...</td>\n",
       "      <td>Common Dolphin</td>\n",
       "    </tr>\n",
       "    <tr>\n",
       "      <th>...</th>\n",
       "      <td>...</td>\n",
       "      <td>...</td>\n",
       "    </tr>\n",
       "    <tr>\n",
       "      <th>113</th>\n",
       "      <td>[-128.81662, 132.48886, 23.790543, 25.622297, ...</td>\n",
       "      <td>White Whale</td>\n",
       "    </tr>\n",
       "    <tr>\n",
       "      <th>288</th>\n",
       "      <td>[-297.27686, 40.499805, 8.552761, 15.098861, 8...</td>\n",
       "      <td>Common Dolphin</td>\n",
       "    </tr>\n",
       "    <tr>\n",
       "      <th>927</th>\n",
       "      <td>[-242.1716, 216.73978, -8.899591, 33.89471, 32...</td>\n",
       "      <td>Northern Right Whale</td>\n",
       "    </tr>\n",
       "    <tr>\n",
       "      <th>982</th>\n",
       "      <td>[-321.8054, -161.16133, -80.946266, 18.084162,...</td>\n",
       "      <td>Pantropical Spotted Dolphin</td>\n",
       "    </tr>\n",
       "    <tr>\n",
       "      <th>979</th>\n",
       "      <td>[-332.55313, -162.70778, -90.35228, 9.287328, ...</td>\n",
       "      <td>Pantropical Spotted Dolphin</td>\n",
       "    </tr>\n",
       "  </tbody>\n",
       "</table>\n",
       "<p>1294 rows × 2 columns</p>\n",
       "</div>"
      ],
      "text/plain": [
       "                                                   MFCC  \\\n",
       "1040  [-130.0061, 103.98132, -36.82569, 22.608412, -...   \n",
       "1527  [-127.93521, 73.30445, -16.630316, 2.7073627, ...   \n",
       "1188  [-356.87976, 184.95625, 41.824856, 0.19870812,...   \n",
       "367   [-324.19498, 22.29798, -30.63091, -28.03511, -...   \n",
       "285   [-154.73775, 113.10654, 14.46577, 29.734438, 2...   \n",
       "...                                                 ...   \n",
       "113   [-128.81662, 132.48886, 23.790543, 25.622297, ...   \n",
       "288   [-297.27686, 40.499805, 8.552761, 15.098861, 8...   \n",
       "927   [-242.1716, 216.73978, -8.899591, 33.89471, 32...   \n",
       "982   [-321.8054, -161.16133, -80.946266, 18.084162,...   \n",
       "979   [-332.55313, -162.70778, -90.35228, 9.287328, ...   \n",
       "\n",
       "                      class_label  \n",
       "1040                    Ross Seal  \n",
       "1527         White-beaked Dolphin  \n",
       "1188         Southern Right Whale  \n",
       "367            False Killer Whale  \n",
       "285                Common Dolphin  \n",
       "...                           ...  \n",
       "113                   White Whale  \n",
       "288                Common Dolphin  \n",
       "927          Northern Right Whale  \n",
       "982   Pantropical Spotted Dolphin  \n",
       "979   Pantropical Spotted Dolphin  \n",
       "\n",
       "[1294 rows x 2 columns]"
      ]
     },
     "execution_count": 6,
     "metadata": {},
     "output_type": "execute_result"
    },
    {
     "data": {
      "text/html": [
       "<div>\n",
       "<style scoped>\n",
       "    .dataframe tbody tr th:only-of-type {\n",
       "        vertical-align: middle;\n",
       "    }\n",
       "\n",
       "    .dataframe tbody tr th {\n",
       "        vertical-align: top;\n",
       "    }\n",
       "\n",
       "    .dataframe thead th {\n",
       "        text-align: right;\n",
       "    }\n",
       "</style>\n",
       "<table border=\"1\" class=\"dataframe\">\n",
       "  <thead>\n",
       "    <tr style=\"text-align: right;\">\n",
       "      <th></th>\n",
       "      <th>MFCC</th>\n",
       "      <th>class_label</th>\n",
       "    </tr>\n",
       "  </thead>\n",
       "  <tbody>\n",
       "    <tr>\n",
       "      <th>293</th>\n",
       "      <td>[-297.3151, 31.737411, 21.51212, 13.053955, 7....</td>\n",
       "      <td>Common Dolphin</td>\n",
       "    </tr>\n",
       "    <tr>\n",
       "      <th>523</th>\n",
       "      <td>[-138.48187, -16.198004, -63.287643, -41.64153...</td>\n",
       "      <td>Risso's Dolphin</td>\n",
       "    </tr>\n",
       "    <tr>\n",
       "      <th>1536</th>\n",
       "      <td>[-277.97003, -119.871346, -112.51745, -7.14194...</td>\n",
       "      <td>White-beaked Dolphin</td>\n",
       "    </tr>\n",
       "    <tr>\n",
       "      <th>1261</th>\n",
       "      <td>[-300.5002, -168.49664, -90.15861, 41.364605, ...</td>\n",
       "      <td>Sperm Whale</td>\n",
       "    </tr>\n",
       "    <tr>\n",
       "      <th>1476</th>\n",
       "      <td>[-442.89612, 91.01448, -12.184007, 34.8573, 1....</td>\n",
       "      <td>Walrus</td>\n",
       "    </tr>\n",
       "    <tr>\n",
       "      <th>...</th>\n",
       "      <td>...</td>\n",
       "      <td>...</td>\n",
       "    </tr>\n",
       "    <tr>\n",
       "      <th>555</th>\n",
       "      <td>[-198.03561, -15.280692, -50.175446, -39.93823...</td>\n",
       "      <td>Risso's Dolphin</td>\n",
       "    </tr>\n",
       "    <tr>\n",
       "      <th>350</th>\n",
       "      <td>[-335.45026, 5.5409975, -22.205381, -14.978383...</td>\n",
       "      <td>False Killer Whale</td>\n",
       "    </tr>\n",
       "    <tr>\n",
       "      <th>575</th>\n",
       "      <td>[-122.55796, 41.157562, 12.771685, 14.512478, ...</td>\n",
       "      <td>Risso's Dolphin</td>\n",
       "    </tr>\n",
       "    <tr>\n",
       "      <th>1416</th>\n",
       "      <td>[-245.22388, -124.01062, -105.85771, -14.56487...</td>\n",
       "      <td>Striped Dolphin</td>\n",
       "    </tr>\n",
       "    <tr>\n",
       "      <th>977</th>\n",
       "      <td>[-327.42154, -162.97131, -84.60622, 16.398186,...</td>\n",
       "      <td>Pantropical Spotted Dolphin</td>\n",
       "    </tr>\n",
       "  </tbody>\n",
       "</table>\n",
       "<p>324 rows × 2 columns</p>\n",
       "</div>"
      ],
      "text/plain": [
       "                                                   MFCC  \\\n",
       "293   [-297.3151, 31.737411, 21.51212, 13.053955, 7....   \n",
       "523   [-138.48187, -16.198004, -63.287643, -41.64153...   \n",
       "1536  [-277.97003, -119.871346, -112.51745, -7.14194...   \n",
       "1261  [-300.5002, -168.49664, -90.15861, 41.364605, ...   \n",
       "1476  [-442.89612, 91.01448, -12.184007, 34.8573, 1....   \n",
       "...                                                 ...   \n",
       "555   [-198.03561, -15.280692, -50.175446, -39.93823...   \n",
       "350   [-335.45026, 5.5409975, -22.205381, -14.978383...   \n",
       "575   [-122.55796, 41.157562, 12.771685, 14.512478, ...   \n",
       "1416  [-245.22388, -124.01062, -105.85771, -14.56487...   \n",
       "977   [-327.42154, -162.97131, -84.60622, 16.398186,...   \n",
       "\n",
       "                      class_label  \n",
       "293                Common Dolphin  \n",
       "523               Risso's Dolphin  \n",
       "1536         White-beaked Dolphin  \n",
       "1261                  Sperm Whale  \n",
       "1476                       Walrus  \n",
       "...                           ...  \n",
       "555               Risso's Dolphin  \n",
       "350            False Killer Whale  \n",
       "575               Risso's Dolphin  \n",
       "1416              Striped Dolphin  \n",
       "977   Pantropical Spotted Dolphin  \n",
       "\n",
       "[324 rows x 2 columns]"
      ]
     },
     "execution_count": 6,
     "metadata": {},
     "output_type": "execute_result"
    }
   ],
   "source": [
    "from sklearn.model_selection import StratifiedShuffleSplit\n",
    "\n",
    "split=StratifiedShuffleSplit(n_splits=1,test_size=0.2,random_state=123)\n",
    "for train_index,test_index in split.split(MFCC_df,MFCC_df[\"class_label\"]):\n",
    "    train_set_strat = MFCC_df.loc[train_index]\n",
    "    test_set_strat = MFCC_df.loc[test_index]\n",
    "train_set_strat\n",
    "test_set_strat"
   ]
  },
  {
   "cell_type": "code",
   "execution_count": 7,
   "metadata": {
    "ExecuteTime": {
     "end_time": "2021-02-05T00:26:30.666265Z",
     "start_time": "2021-02-05T00:26:30.659265Z"
    }
   },
   "outputs": [],
   "source": [
    "x_train_strat = np.array(train_set_strat.MFCC.tolist())\n",
    "y_train_strat = le.transform(np.array(train_set_strat.class_label.tolist()))\n",
    "\n",
    "x_test_strat = np.array(test_set_strat.MFCC.tolist())\n",
    "y_test_strat = le.transform(np.array(test_set_strat.class_label.tolist()))"
   ]
  },
  {
   "cell_type": "markdown",
   "metadata": {},
   "source": [
    "# Build Classifier\n",
    "## KNN Classifier\n",
    "### KNN 1"
   ]
  },
  {
   "cell_type": "code",
   "execution_count": 8,
   "metadata": {
    "ExecuteTime": {
     "end_time": "2021-02-05T00:37:20.905457Z",
     "start_time": "2021-02-05T00:37:17.691273Z"
    }
   },
   "outputs": [
    {
     "data": {
      "application/vnd.jupyter.widget-view+json": {
       "model_id": "72276137bd10441682c5d74bf9ba2f99",
       "version_major": 2,
       "version_minor": 0
      },
      "text/plain": [
       "HBox(children=(FloatProgress(value=0.0, max=19.0), HTML(value='')))"
      ]
     },
     "metadata": {},
     "output_type": "display_data"
    },
    {
     "name": "stdout",
     "output_type": "stream",
     "text": [
      "\n"
     ]
    },
    {
     "data": {
      "text/plain": [
       "[<matplotlib.lines.Line2D at 0x4d3736d0>]"
      ]
     },
     "execution_count": 8,
     "metadata": {},
     "output_type": "execute_result"
    },
    {
     "data": {
      "text/plain": [
       "Text(0.5, 0, 'K')"
      ]
     },
     "execution_count": 8,
     "metadata": {},
     "output_type": "execute_result"
    },
    {
     "data": {
      "text/plain": [
       "Text(0, 0.5, 'Accuracy')"
      ]
     },
     "execution_count": 8,
     "metadata": {},
     "output_type": "execute_result"
    },
    {
     "data": {
      "image/png": "[encoded data removed]",
      "text/plain": [
       "<Figure size 432x288 with 1 Axes>"
      ]
     },
     "metadata": {
      "needs_background": "light"
     },
     "output_type": "display_data"
    }
   ],
   "source": [
    "from sklearn.model_selection import cross_val_score\n",
    "from sklearn.neighbors import KNeighborsClassifier\n",
    "from tqdm.notebook import tqdm\n",
    "import matplotlib.pyplot as plt\n",
    "\n",
    "k_range = range(1,20)\n",
    "cv_scores = []\n",
    "for n in tqdm(k_range):\n",
    "    knn = KNeighborsClassifier(n)   \n",
    "    scores = cross_val_score(knn,\n",
    "                             x_train_strat,\n",
    "                             y_train_strat,\n",
    "                             cv=10,\n",
    "                             scoring='f1_weighted')  \n",
    "    cv_scores.append(scores.mean())\n",
    "plt.plot(k_range,cv_scores)\n",
    "plt.xlabel('K')\n",
    "plt.ylabel('Accuracy')"
   ]
  },
  {
   "cell_type": "code",
   "execution_count": 9,
   "metadata": {
    "ExecuteTime": {
     "end_time": "2021-02-05T00:37:54.155359Z",
     "start_time": "2021-02-05T00:37:54.093355Z"
    }
   },
   "outputs": [
    {
     "data": {
      "text/plain": [
       "KNeighborsClassifier(n_neighbors=1)"
      ]
     },
     "execution_count": 9,
     "metadata": {},
     "output_type": "execute_result"
    },
    {
     "data": {
      "text/plain": [
       "0.8919753086419753"
      ]
     },
     "execution_count": 9,
     "metadata": {},
     "output_type": "execute_result"
    },
    {
     "data": {
      "text/plain": [
       "KNeighborsClassifier(n_neighbors=1)"
      ]
     },
     "execution_count": 9,
     "metadata": {},
     "output_type": "execute_result"
    },
    {
     "data": {
      "text/plain": [
       "0.8765432098765432"
      ]
     },
     "execution_count": 9,
     "metadata": {},
     "output_type": "execute_result"
    }
   ],
   "source": [
    "best_knn = KNeighborsClassifier(1)\n",
    "best_knn.fit(x_train_strat,y_train_strat)\n",
    "best_knn.score(x_test_strat,y_test_strat)\n",
    "\n",
    "best_knn_random = KNeighborsClassifier(1)\n",
    "best_knn_random.fit(x_train_random,y_train_random)\n",
    "best_knn_random.score(x_test_random,y_test_random)"
   ]
  },
  {
   "cell_type": "code",
   "execution_count": 10,
   "metadata": {},
   "outputs": [
    {
     "data": {
      "text/plain": [
       "KNeighborsClassifier(n_neighbors=1)"
      ]
     },
     "execution_count": 10,
     "metadata": {},
     "output_type": "execute_result"
    },
    {
     "data": {
      "text/plain": [
       "0.8919753086419753"
      ]
     },
     "execution_count": 10,
     "metadata": {},
     "output_type": "execute_result"
    }
   ],
   "source": [
    "best_knn = KNeighborsClassifier(1)\n",
    "best_knn.fit(x_train_strat,y_train_strat)\n",
    "best_knn.score(x_test_strat,y_test_strat)"
   ]
  },
  {
   "cell_type": "code",
   "execution_count": 27,
   "metadata": {},
   "outputs": [
    {
     "data": {
      "text/plain": [
       "RandomForestClassifier()"
      ]
     },
     "execution_count": 27,
     "metadata": {},
     "output_type": "execute_result"
    },
    {
     "data": {
      "text/plain": [
       "0.8858024691358025"
      ]
     },
     "execution_count": 27,
     "metadata": {},
     "output_type": "execute_result"
    },
    {
     "data": {
      "text/plain": [
       "RandomForestClassifier()"
      ]
     },
     "execution_count": 27,
     "metadata": {},
     "output_type": "execute_result"
    },
    {
     "data": {
      "text/plain": [
       "0.975609756097561"
      ]
     },
     "execution_count": 27,
     "metadata": {},
     "output_type": "execute_result"
    }
   ],
   "source": [
    "RF = RandomForestClassifier()\n",
    "RF.fit(x_train_strat,y_train_strat)\n",
    "RF.score(x_test_strat,y_test_strat)\n",
    "\n",
    "RF = RandomForestClassifier()\n",
    "RF.fit(x_binary_train,y_binary_train)\n",
    "RF.score(x_binary_test,y_binary_test)"
   ]
  },
  {
   "cell_type": "markdown",
   "metadata": {},
   "source": [
    "### Knn Grid CV"
   ]
  },
  {
   "cell_type": "code",
   "execution_count": 15,
   "metadata": {},
   "outputs": [
    {
     "name": "stdout",
     "output_type": "stream",
     "text": [
      "Fitting 10 folds for each of 228 candidates, totalling 2280 fits\n"
     ]
    },
    {
     "name": "stderr",
     "output_type": "stream",
     "text": [
      "[Parallel(n_jobs=-1)]: Using backend LokyBackend with 8 concurrent workers.\n",
      "[Parallel(n_jobs=-1)]: Done  16 tasks      | elapsed:    3.2s\n",
      "[Parallel(n_jobs=-1)]: Done 528 tasks      | elapsed:    3.8s\n",
      "[Parallel(n_jobs=-1)]: Done 2280 out of 2280 | elapsed:    5.2s finished\n"
     ]
    },
    {
     "data": {
      "text/plain": [
       "GridSearchCV(cv=StratifiedKFold(n_splits=10, random_state=None, shuffle=True),\n",
       "             estimator=KNeighborsClassifier(), n_jobs=-1,\n",
       "             param_grid={'metric': ['euclidean', 'manhattan', 'chebyshev',\n",
       "                                    'hamming', 'canberra', 'braycurtis'],\n",
       "                         'n_neighbors': range(1, 20),\n",
       "                         'weights': ['uniform', 'distance']},\n",
       "             scoring='f1_weighted', verbose=3)"
      ]
     },
     "execution_count": 15,
     "metadata": {},
     "output_type": "execute_result"
    }
   ],
   "source": [
    "from sklearn.model_selection import GridSearchCV\n",
    "from sklearn.model_selection import StratifiedKFold\n",
    "n_neighbors_list = range(1,20)\n",
    "metric_list=['euclidean','manhattan','chebyshev','hamming','canberra','braycurtis']\n",
    "weights_list = ['uniform', 'distance']\n",
    "parameters={'n_neighbors':n_neighbors_list,'metric':metric_list, 'weights':weights_list}\n",
    "# create GridSearchCV\n",
    "clf = GridSearchCV(KNeighborsClassifier(), parameters, n_jobs=-1, verbose=3,\n",
    "                   cv=StratifiedKFold(n_splits=10, shuffle=True), scoring='f1_weighted')\n",
    "#clf.fit(np.array(MFCC_df.MFCC.tolist()),le.transform(np.array(MFCC_df.class_label.tolist())))\n",
    "#clf.fit(x_train_random,y_train_random)\n",
    "clf.fit(x_binary,y_binary)"
   ]
  },
  {
   "cell_type": "code",
   "execution_count": 16,
   "metadata": {},
   "outputs": [
    {
     "data": {
      "text/html": [
       "<div>\n",
       "<style scoped>\n",
       "    .dataframe tbody tr th:only-of-type {\n",
       "        vertical-align: middle;\n",
       "    }\n",
       "\n",
       "    .dataframe tbody tr th {\n",
       "        vertical-align: top;\n",
       "    }\n",
       "\n",
       "    .dataframe thead th {\n",
       "        text-align: right;\n",
       "    }\n",
       "</style>\n",
       "<table border=\"1\" class=\"dataframe\">\n",
       "  <thead>\n",
       "    <tr style=\"text-align: right;\">\n",
       "      <th></th>\n",
       "      <th>param_metric</th>\n",
       "      <th>param_n_neighbors</th>\n",
       "      <th>param_weights</th>\n",
       "      <th>mean_test_score</th>\n",
       "      <th>std_test_score</th>\n",
       "    </tr>\n",
       "    <tr>\n",
       "      <th>rank_test_score</th>\n",
       "      <th></th>\n",
       "      <th></th>\n",
       "      <th></th>\n",
       "      <th></th>\n",
       "      <th></th>\n",
       "    </tr>\n",
       "  </thead>\n",
       "  <tbody>\n",
       "    <tr>\n",
       "      <th>1</th>\n",
       "      <td>braycurtis</td>\n",
       "      <td>4</td>\n",
       "      <td>distance</td>\n",
       "      <td>0.995038</td>\n",
       "      <td>0.014885</td>\n",
       "    </tr>\n",
       "    <tr>\n",
       "      <th>1</th>\n",
       "      <td>braycurtis</td>\n",
       "      <td>4</td>\n",
       "      <td>uniform</td>\n",
       "      <td>0.995038</td>\n",
       "      <td>0.014885</td>\n",
       "    </tr>\n",
       "    <tr>\n",
       "      <th>1</th>\n",
       "      <td>braycurtis</td>\n",
       "      <td>2</td>\n",
       "      <td>distance</td>\n",
       "      <td>0.995038</td>\n",
       "      <td>0.014885</td>\n",
       "    </tr>\n",
       "    <tr>\n",
       "      <th>1</th>\n",
       "      <td>braycurtis</td>\n",
       "      <td>2</td>\n",
       "      <td>uniform</td>\n",
       "      <td>0.995038</td>\n",
       "      <td>0.014885</td>\n",
       "    </tr>\n",
       "    <tr>\n",
       "      <th>1</th>\n",
       "      <td>braycurtis</td>\n",
       "      <td>1</td>\n",
       "      <td>distance</td>\n",
       "      <td>0.995038</td>\n",
       "      <td>0.014885</td>\n",
       "    </tr>\n",
       "    <tr>\n",
       "      <th>1</th>\n",
       "      <td>braycurtis</td>\n",
       "      <td>1</td>\n",
       "      <td>uniform</td>\n",
       "      <td>0.995038</td>\n",
       "      <td>0.014885</td>\n",
       "    </tr>\n",
       "    <tr>\n",
       "      <th>7</th>\n",
       "      <td>manhattan</td>\n",
       "      <td>3</td>\n",
       "      <td>uniform</td>\n",
       "      <td>0.990077</td>\n",
       "      <td>0.019847</td>\n",
       "    </tr>\n",
       "    <tr>\n",
       "      <th>7</th>\n",
       "      <td>manhattan</td>\n",
       "      <td>2</td>\n",
       "      <td>uniform</td>\n",
       "      <td>0.990077</td>\n",
       "      <td>0.019847</td>\n",
       "    </tr>\n",
       "    <tr>\n",
       "      <th>7</th>\n",
       "      <td>manhattan</td>\n",
       "      <td>4</td>\n",
       "      <td>distance</td>\n",
       "      <td>0.990077</td>\n",
       "      <td>0.019847</td>\n",
       "    </tr>\n",
       "    <tr>\n",
       "      <th>7</th>\n",
       "      <td>manhattan</td>\n",
       "      <td>5</td>\n",
       "      <td>uniform</td>\n",
       "      <td>0.990077</td>\n",
       "      <td>0.019847</td>\n",
       "    </tr>\n",
       "    <tr>\n",
       "      <th>7</th>\n",
       "      <td>manhattan</td>\n",
       "      <td>5</td>\n",
       "      <td>distance</td>\n",
       "      <td>0.990077</td>\n",
       "      <td>0.019847</td>\n",
       "    </tr>\n",
       "    <tr>\n",
       "      <th>7</th>\n",
       "      <td>manhattan</td>\n",
       "      <td>6</td>\n",
       "      <td>uniform</td>\n",
       "      <td>0.990077</td>\n",
       "      <td>0.019847</td>\n",
       "    </tr>\n",
       "    <tr>\n",
       "      <th>7</th>\n",
       "      <td>manhattan</td>\n",
       "      <td>6</td>\n",
       "      <td>distance</td>\n",
       "      <td>0.990077</td>\n",
       "      <td>0.019847</td>\n",
       "    </tr>\n",
       "    <tr>\n",
       "      <th>7</th>\n",
       "      <td>manhattan</td>\n",
       "      <td>8</td>\n",
       "      <td>distance</td>\n",
       "      <td>0.990077</td>\n",
       "      <td>0.019847</td>\n",
       "    </tr>\n",
       "    <tr>\n",
       "      <th>7</th>\n",
       "      <td>manhattan</td>\n",
       "      <td>3</td>\n",
       "      <td>distance</td>\n",
       "      <td>0.990077</td>\n",
       "      <td>0.019847</td>\n",
       "    </tr>\n",
       "    <tr>\n",
       "      <th>7</th>\n",
       "      <td>euclidean</td>\n",
       "      <td>1</td>\n",
       "      <td>uniform</td>\n",
       "      <td>0.990077</td>\n",
       "      <td>0.019847</td>\n",
       "    </tr>\n",
       "    <tr>\n",
       "      <th>7</th>\n",
       "      <td>manhattan</td>\n",
       "      <td>4</td>\n",
       "      <td>uniform</td>\n",
       "      <td>0.990077</td>\n",
       "      <td>0.019847</td>\n",
       "    </tr>\n",
       "    <tr>\n",
       "      <th>7</th>\n",
       "      <td>euclidean</td>\n",
       "      <td>1</td>\n",
       "      <td>distance</td>\n",
       "      <td>0.990077</td>\n",
       "      <td>0.019847</td>\n",
       "    </tr>\n",
       "    <tr>\n",
       "      <th>7</th>\n",
       "      <td>euclidean</td>\n",
       "      <td>2</td>\n",
       "      <td>distance</td>\n",
       "      <td>0.990077</td>\n",
       "      <td>0.019847</td>\n",
       "    </tr>\n",
       "    <tr>\n",
       "      <th>20</th>\n",
       "      <td>manhattan</td>\n",
       "      <td>7</td>\n",
       "      <td>distance</td>\n",
       "      <td>0.990000</td>\n",
       "      <td>0.020001</td>\n",
       "    </tr>\n",
       "  </tbody>\n",
       "</table>\n",
       "</div>"
      ],
      "text/plain": [
       "                param_metric param_n_neighbors param_weights  mean_test_score  \\\n",
       "rank_test_score                                                                 \n",
       "1                 braycurtis                 4      distance         0.995038   \n",
       "1                 braycurtis                 4       uniform         0.995038   \n",
       "1                 braycurtis                 2      distance         0.995038   \n",
       "1                 braycurtis                 2       uniform         0.995038   \n",
       "1                 braycurtis                 1      distance         0.995038   \n",
       "1                 braycurtis                 1       uniform         0.995038   \n",
       "7                  manhattan                 3       uniform         0.990077   \n",
       "7                  manhattan                 2       uniform         0.990077   \n",
       "7                  manhattan                 4      distance         0.990077   \n",
       "7                  manhattan                 5       uniform         0.990077   \n",
       "7                  manhattan                 5      distance         0.990077   \n",
       "7                  manhattan                 6       uniform         0.990077   \n",
       "7                  manhattan                 6      distance         0.990077   \n",
       "7                  manhattan                 8      distance         0.990077   \n",
       "7                  manhattan                 3      distance         0.990077   \n",
       "7                  euclidean                 1       uniform         0.990077   \n",
       "7                  manhattan                 4       uniform         0.990077   \n",
       "7                  euclidean                 1      distance         0.990077   \n",
       "7                  euclidean                 2      distance         0.990077   \n",
       "20                 manhattan                 7      distance         0.990000   \n",
       "\n",
       "                 std_test_score  \n",
       "rank_test_score                  \n",
       "1                      0.014885  \n",
       "1                      0.014885  \n",
       "1                      0.014885  \n",
       "1                      0.014885  \n",
       "1                      0.014885  \n",
       "1                      0.014885  \n",
       "7                      0.019847  \n",
       "7                      0.019847  \n",
       "7                      0.019847  \n",
       "7                      0.019847  \n",
       "7                      0.019847  \n",
       "7                      0.019847  \n",
       "7                      0.019847  \n",
       "7                      0.019847  \n",
       "7                      0.019847  \n",
       "7                      0.019847  \n",
       "7                      0.019847  \n",
       "7                      0.019847  \n",
       "7                      0.019847  \n",
       "20                     0.020001  "
      ]
     },
     "execution_count": 16,
     "metadata": {},
     "output_type": "execute_result"
    }
   ],
   "source": [
    "# print the table of scores and parameters\n",
    "result=pd.DataFrame.from_dict(clf.cv_results_)\n",
    "result=result.loc[:,[\"param_metric\",\"param_n_neighbors\",\"param_weights\",\"mean_test_score\",\"std_test_score\",\"rank_test_score\"]]\n",
    "result.sort_values(\"rank_test_score\",inplace=True)\n",
    "result.set_index([\"rank_test_score\"])[:20]"
   ]
  },
  {
   "cell_type": "markdown",
   "metadata": {},
   "source": [
    "## Random Forest"
   ]
  },
  {
   "cell_type": "code",
   "execution_count": 30,
   "metadata": {},
   "outputs": [
    {
     "name": "stdout",
     "output_type": "stream",
     "text": [
      "Fitting 10 folds for each of 450 candidates, totalling 4500 fits\n"
     ]
    },
    {
     "name": "stderr",
     "output_type": "stream",
     "text": [
      "[Parallel(n_jobs=-1)]: Using backend LokyBackend with 8 concurrent workers.\n",
      "[Parallel(n_jobs=-1)]: Done  16 tasks      | elapsed:    0.1s\n",
      "[Parallel(n_jobs=-1)]: Done 338 tasks      | elapsed:   20.0s\n"
     ]
    },
    {
     "ename": "KeyboardInterrupt",
     "evalue": "",
     "output_type": "error",
     "traceback": [
      "\u001b[1;31m---------------------------------------------------------------------------\u001b[0m",
      "\u001b[1;31mKeyboardInterrupt\u001b[0m                         Traceback (most recent call last)",
      "\u001b[1;32m<ipython-input-30-b427a560b68f>\u001b[0m in \u001b[0;36m<module>\u001b[1;34m\u001b[0m\n\u001b[0;32m      8\u001b[0m clf = GridSearchCV(RandomForestClassifier(), parameters, n_jobs=-1, verbose=3,\n\u001b[0;32m      9\u001b[0m                    cv=StratifiedKFold(n_splits=10, shuffle=True), scoring='f1_weighted')\n\u001b[1;32m---> 10\u001b[1;33m \u001b[0mclf\u001b[0m\u001b[1;33m.\u001b[0m\u001b[0mfit\u001b[0m\u001b[1;33m(\u001b[0m\u001b[0mnp\u001b[0m\u001b[1;33m.\u001b[0m\u001b[0marray\u001b[0m\u001b[1;33m(\u001b[0m\u001b[0mMFCC_df\u001b[0m\u001b[1;33m.\u001b[0m\u001b[0mMFCC\u001b[0m\u001b[1;33m.\u001b[0m\u001b[0mtolist\u001b[0m\u001b[1;33m(\u001b[0m\u001b[1;33m)\u001b[0m\u001b[1;33m)\u001b[0m\u001b[1;33m,\u001b[0m\u001b[0mle\u001b[0m\u001b[1;33m.\u001b[0m\u001b[0mtransform\u001b[0m\u001b[1;33m(\u001b[0m\u001b[0mnp\u001b[0m\u001b[1;33m.\u001b[0m\u001b[0marray\u001b[0m\u001b[1;33m(\u001b[0m\u001b[0mMFCC_df\u001b[0m\u001b[1;33m.\u001b[0m\u001b[0mclass_label\u001b[0m\u001b[1;33m.\u001b[0m\u001b[0mtolist\u001b[0m\u001b[1;33m(\u001b[0m\u001b[1;33m)\u001b[0m\u001b[1;33m)\u001b[0m\u001b[1;33m)\u001b[0m\u001b[1;33m)\u001b[0m\u001b[1;33m\u001b[0m\u001b[1;33m\u001b[0m\u001b[0m\n\u001b[0m\u001b[0;32m     11\u001b[0m \u001b[1;31m#clf.fit(x_train_random,y_train_random)\u001b[0m\u001b[1;33m\u001b[0m\u001b[1;33m\u001b[0m\u001b[1;33m\u001b[0m\u001b[0m\n\u001b[0;32m     12\u001b[0m \u001b[1;31m#clf.fit(x_binary,y_binary)\u001b[0m\u001b[1;33m\u001b[0m\u001b[1;33m\u001b[0m\u001b[1;33m\u001b[0m\u001b[0m\n",
      "\u001b[1;32mD:\\Python\\Anaconda3\\lib\\site-packages\\sklearn\\utils\\validation.py\u001b[0m in \u001b[0;36minner_f\u001b[1;34m(*args, **kwargs)\u001b[0m\n\u001b[0;32m     71\u001b[0m                           FutureWarning)\n\u001b[0;32m     72\u001b[0m         \u001b[0mkwargs\u001b[0m\u001b[1;33m.\u001b[0m\u001b[0mupdate\u001b[0m\u001b[1;33m(\u001b[0m\u001b[1;33m{\u001b[0m\u001b[0mk\u001b[0m\u001b[1;33m:\u001b[0m \u001b[0marg\u001b[0m \u001b[1;32mfor\u001b[0m \u001b[0mk\u001b[0m\u001b[1;33m,\u001b[0m \u001b[0marg\u001b[0m \u001b[1;32min\u001b[0m \u001b[0mzip\u001b[0m\u001b[1;33m(\u001b[0m\u001b[0msig\u001b[0m\u001b[1;33m.\u001b[0m\u001b[0mparameters\u001b[0m\u001b[1;33m,\u001b[0m \u001b[0margs\u001b[0m\u001b[1;33m)\u001b[0m\u001b[1;33m}\u001b[0m\u001b[1;33m)\u001b[0m\u001b[1;33m\u001b[0m\u001b[1;33m\u001b[0m\u001b[0m\n\u001b[1;32m---> 73\u001b[1;33m         \u001b[1;32mreturn\u001b[0m \u001b[0mf\u001b[0m\u001b[1;33m(\u001b[0m\u001b[1;33m**\u001b[0m\u001b[0mkwargs\u001b[0m\u001b[1;33m)\u001b[0m\u001b[1;33m\u001b[0m\u001b[1;33m\u001b[0m\u001b[0m\n\u001b[0m\u001b[0;32m     74\u001b[0m     \u001b[1;32mreturn\u001b[0m \u001b[0minner_f\u001b[0m\u001b[1;33m\u001b[0m\u001b[1;33m\u001b[0m\u001b[0m\n\u001b[0;32m     75\u001b[0m \u001b[1;33m\u001b[0m\u001b[0m\n",
      "\u001b[1;32mD:\\Python\\Anaconda3\\lib\\site-packages\\sklearn\\model_selection\\_search.py\u001b[0m in \u001b[0;36mfit\u001b[1;34m(self, X, y, groups, **fit_params)\u001b[0m\n\u001b[0;32m    734\u001b[0m                 \u001b[1;32mreturn\u001b[0m \u001b[0mresults\u001b[0m\u001b[1;33m\u001b[0m\u001b[1;33m\u001b[0m\u001b[0m\n\u001b[0;32m    735\u001b[0m \u001b[1;33m\u001b[0m\u001b[0m\n\u001b[1;32m--> 736\u001b[1;33m             \u001b[0mself\u001b[0m\u001b[1;33m.\u001b[0m\u001b[0m_run_search\u001b[0m\u001b[1;33m(\u001b[0m\u001b[0mevaluate_candidates\u001b[0m\u001b[1;33m)\u001b[0m\u001b[1;33m\u001b[0m\u001b[1;33m\u001b[0m\u001b[0m\n\u001b[0m\u001b[0;32m    737\u001b[0m \u001b[1;33m\u001b[0m\u001b[0m\n\u001b[0;32m    738\u001b[0m         \u001b[1;31m# For multi-metric evaluation, store the best_index_, best_params_ and\u001b[0m\u001b[1;33m\u001b[0m\u001b[1;33m\u001b[0m\u001b[1;33m\u001b[0m\u001b[0m\n",
      "\u001b[1;32mD:\\Python\\Anaconda3\\lib\\site-packages\\sklearn\\model_selection\\_search.py\u001b[0m in \u001b[0;36m_run_search\u001b[1;34m(self, evaluate_candidates)\u001b[0m\n\u001b[0;32m   1186\u001b[0m     \u001b[1;32mdef\u001b[0m \u001b[0m_run_search\u001b[0m\u001b[1;33m(\u001b[0m\u001b[0mself\u001b[0m\u001b[1;33m,\u001b[0m \u001b[0mevaluate_candidates\u001b[0m\u001b[1;33m)\u001b[0m\u001b[1;33m:\u001b[0m\u001b[1;33m\u001b[0m\u001b[1;33m\u001b[0m\u001b[0m\n\u001b[0;32m   1187\u001b[0m         \u001b[1;34m\"\"\"Search all candidates in param_grid\"\"\"\u001b[0m\u001b[1;33m\u001b[0m\u001b[1;33m\u001b[0m\u001b[0m\n\u001b[1;32m-> 1188\u001b[1;33m         \u001b[0mevaluate_candidates\u001b[0m\u001b[1;33m(\u001b[0m\u001b[0mParameterGrid\u001b[0m\u001b[1;33m(\u001b[0m\u001b[0mself\u001b[0m\u001b[1;33m.\u001b[0m\u001b[0mparam_grid\u001b[0m\u001b[1;33m)\u001b[0m\u001b[1;33m)\u001b[0m\u001b[1;33m\u001b[0m\u001b[1;33m\u001b[0m\u001b[0m\n\u001b[0m\u001b[0;32m   1189\u001b[0m \u001b[1;33m\u001b[0m\u001b[0m\n\u001b[0;32m   1190\u001b[0m \u001b[1;33m\u001b[0m\u001b[0m\n",
      "\u001b[1;32mD:\\Python\\Anaconda3\\lib\\site-packages\\sklearn\\model_selection\\_search.py\u001b[0m in \u001b[0;36mevaluate_candidates\u001b[1;34m(candidate_params)\u001b[0m\n\u001b[0;32m    706\u001b[0m                               n_splits, n_candidates, n_candidates * n_splits))\n\u001b[0;32m    707\u001b[0m \u001b[1;33m\u001b[0m\u001b[0m\n\u001b[1;32m--> 708\u001b[1;33m                 out = parallel(delayed(_fit_and_score)(clone(base_estimator),\n\u001b[0m\u001b[0;32m    709\u001b[0m                                                        \u001b[0mX\u001b[0m\u001b[1;33m,\u001b[0m \u001b[0my\u001b[0m\u001b[1;33m,\u001b[0m\u001b[1;33m\u001b[0m\u001b[1;33m\u001b[0m\u001b[0m\n\u001b[0;32m    710\u001b[0m                                                        \u001b[0mtrain\u001b[0m\u001b[1;33m=\u001b[0m\u001b[0mtrain\u001b[0m\u001b[1;33m,\u001b[0m \u001b[0mtest\u001b[0m\u001b[1;33m=\u001b[0m\u001b[0mtest\u001b[0m\u001b[1;33m,\u001b[0m\u001b[1;33m\u001b[0m\u001b[1;33m\u001b[0m\u001b[0m\n",
      "\u001b[1;32mD:\\Python\\Anaconda3\\lib\\site-packages\\joblib\\parallel.py\u001b[0m in \u001b[0;36m__call__\u001b[1;34m(self, iterable)\u001b[0m\n\u001b[0;32m   1040\u001b[0m \u001b[1;33m\u001b[0m\u001b[0m\n\u001b[0;32m   1041\u001b[0m             \u001b[1;32mwith\u001b[0m \u001b[0mself\u001b[0m\u001b[1;33m.\u001b[0m\u001b[0m_backend\u001b[0m\u001b[1;33m.\u001b[0m\u001b[0mretrieval_context\u001b[0m\u001b[1;33m(\u001b[0m\u001b[1;33m)\u001b[0m\u001b[1;33m:\u001b[0m\u001b[1;33m\u001b[0m\u001b[1;33m\u001b[0m\u001b[0m\n\u001b[1;32m-> 1042\u001b[1;33m                 \u001b[0mself\u001b[0m\u001b[1;33m.\u001b[0m\u001b[0mretrieve\u001b[0m\u001b[1;33m(\u001b[0m\u001b[1;33m)\u001b[0m\u001b[1;33m\u001b[0m\u001b[1;33m\u001b[0m\u001b[0m\n\u001b[0m\u001b[0;32m   1043\u001b[0m             \u001b[1;31m# Make sure that we get a last message telling us we are done\u001b[0m\u001b[1;33m\u001b[0m\u001b[1;33m\u001b[0m\u001b[1;33m\u001b[0m\u001b[0m\n\u001b[0;32m   1044\u001b[0m             \u001b[0melapsed_time\u001b[0m \u001b[1;33m=\u001b[0m \u001b[0mtime\u001b[0m\u001b[1;33m.\u001b[0m\u001b[0mtime\u001b[0m\u001b[1;33m(\u001b[0m\u001b[1;33m)\u001b[0m \u001b[1;33m-\u001b[0m \u001b[0mself\u001b[0m\u001b[1;33m.\u001b[0m\u001b[0m_start_time\u001b[0m\u001b[1;33m\u001b[0m\u001b[1;33m\u001b[0m\u001b[0m\n",
      "\u001b[1;32mD:\\Python\\Anaconda3\\lib\\site-packages\\joblib\\parallel.py\u001b[0m in \u001b[0;36mretrieve\u001b[1;34m(self)\u001b[0m\n\u001b[0;32m    919\u001b[0m             \u001b[1;32mtry\u001b[0m\u001b[1;33m:\u001b[0m\u001b[1;33m\u001b[0m\u001b[1;33m\u001b[0m\u001b[0m\n\u001b[0;32m    920\u001b[0m                 \u001b[1;32mif\u001b[0m \u001b[0mgetattr\u001b[0m\u001b[1;33m(\u001b[0m\u001b[0mself\u001b[0m\u001b[1;33m.\u001b[0m\u001b[0m_backend\u001b[0m\u001b[1;33m,\u001b[0m \u001b[1;34m'supports_timeout'\u001b[0m\u001b[1;33m,\u001b[0m \u001b[1;32mFalse\u001b[0m\u001b[1;33m)\u001b[0m\u001b[1;33m:\u001b[0m\u001b[1;33m\u001b[0m\u001b[1;33m\u001b[0m\u001b[0m\n\u001b[1;32m--> 921\u001b[1;33m                     \u001b[0mself\u001b[0m\u001b[1;33m.\u001b[0m\u001b[0m_output\u001b[0m\u001b[1;33m.\u001b[0m\u001b[0mextend\u001b[0m\u001b[1;33m(\u001b[0m\u001b[0mjob\u001b[0m\u001b[1;33m.\u001b[0m\u001b[0mget\u001b[0m\u001b[1;33m(\u001b[0m\u001b[0mtimeout\u001b[0m\u001b[1;33m=\u001b[0m\u001b[0mself\u001b[0m\u001b[1;33m.\u001b[0m\u001b[0mtimeout\u001b[0m\u001b[1;33m)\u001b[0m\u001b[1;33m)\u001b[0m\u001b[1;33m\u001b[0m\u001b[1;33m\u001b[0m\u001b[0m\n\u001b[0m\u001b[0;32m    922\u001b[0m                 \u001b[1;32melse\u001b[0m\u001b[1;33m:\u001b[0m\u001b[1;33m\u001b[0m\u001b[1;33m\u001b[0m\u001b[0m\n\u001b[0;32m    923\u001b[0m                     \u001b[0mself\u001b[0m\u001b[1;33m.\u001b[0m\u001b[0m_output\u001b[0m\u001b[1;33m.\u001b[0m\u001b[0mextend\u001b[0m\u001b[1;33m(\u001b[0m\u001b[0mjob\u001b[0m\u001b[1;33m.\u001b[0m\u001b[0mget\u001b[0m\u001b[1;33m(\u001b[0m\u001b[1;33m)\u001b[0m\u001b[1;33m)\u001b[0m\u001b[1;33m\u001b[0m\u001b[1;33m\u001b[0m\u001b[0m\n",
      "\u001b[1;32mD:\\Python\\Anaconda3\\lib\\site-packages\\joblib\\_parallel_backends.py\u001b[0m in \u001b[0;36mwrap_future_result\u001b[1;34m(future, timeout)\u001b[0m\n\u001b[0;32m    540\u001b[0m         AsyncResults.get from multiprocessing.\"\"\"\n\u001b[0;32m    541\u001b[0m         \u001b[1;32mtry\u001b[0m\u001b[1;33m:\u001b[0m\u001b[1;33m\u001b[0m\u001b[1;33m\u001b[0m\u001b[0m\n\u001b[1;32m--> 542\u001b[1;33m             \u001b[1;32mreturn\u001b[0m \u001b[0mfuture\u001b[0m\u001b[1;33m.\u001b[0m\u001b[0mresult\u001b[0m\u001b[1;33m(\u001b[0m\u001b[0mtimeout\u001b[0m\u001b[1;33m=\u001b[0m\u001b[0mtimeout\u001b[0m\u001b[1;33m)\u001b[0m\u001b[1;33m\u001b[0m\u001b[1;33m\u001b[0m\u001b[0m\n\u001b[0m\u001b[0;32m    543\u001b[0m         \u001b[1;32mexcept\u001b[0m \u001b[0mCfTimeoutError\u001b[0m \u001b[1;32mas\u001b[0m \u001b[0me\u001b[0m\u001b[1;33m:\u001b[0m\u001b[1;33m\u001b[0m\u001b[1;33m\u001b[0m\u001b[0m\n\u001b[0;32m    544\u001b[0m             \u001b[1;32mraise\u001b[0m \u001b[0mTimeoutError\u001b[0m \u001b[1;32mfrom\u001b[0m \u001b[0me\u001b[0m\u001b[1;33m\u001b[0m\u001b[1;33m\u001b[0m\u001b[0m\n",
      "\u001b[1;32mD:\\Python\\Anaconda3\\lib\\concurrent\\futures\\_base.py\u001b[0m in \u001b[0;36mresult\u001b[1;34m(self, timeout)\u001b[0m\n\u001b[0;32m    432\u001b[0m                 \u001b[1;32mreturn\u001b[0m \u001b[0mself\u001b[0m\u001b[1;33m.\u001b[0m\u001b[0m__get_result\u001b[0m\u001b[1;33m(\u001b[0m\u001b[1;33m)\u001b[0m\u001b[1;33m\u001b[0m\u001b[1;33m\u001b[0m\u001b[0m\n\u001b[0;32m    433\u001b[0m \u001b[1;33m\u001b[0m\u001b[0m\n\u001b[1;32m--> 434\u001b[1;33m             \u001b[0mself\u001b[0m\u001b[1;33m.\u001b[0m\u001b[0m_condition\u001b[0m\u001b[1;33m.\u001b[0m\u001b[0mwait\u001b[0m\u001b[1;33m(\u001b[0m\u001b[0mtimeout\u001b[0m\u001b[1;33m)\u001b[0m\u001b[1;33m\u001b[0m\u001b[1;33m\u001b[0m\u001b[0m\n\u001b[0m\u001b[0;32m    435\u001b[0m \u001b[1;33m\u001b[0m\u001b[0m\n\u001b[0;32m    436\u001b[0m             \u001b[1;32mif\u001b[0m \u001b[0mself\u001b[0m\u001b[1;33m.\u001b[0m\u001b[0m_state\u001b[0m \u001b[1;32min\u001b[0m \u001b[1;33m[\u001b[0m\u001b[0mCANCELLED\u001b[0m\u001b[1;33m,\u001b[0m \u001b[0mCANCELLED_AND_NOTIFIED\u001b[0m\u001b[1;33m]\u001b[0m\u001b[1;33m:\u001b[0m\u001b[1;33m\u001b[0m\u001b[1;33m\u001b[0m\u001b[0m\n",
      "\u001b[1;32mD:\\Python\\Anaconda3\\lib\\threading.py\u001b[0m in \u001b[0;36mwait\u001b[1;34m(self, timeout)\u001b[0m\n\u001b[0;32m    300\u001b[0m         \u001b[1;32mtry\u001b[0m\u001b[1;33m:\u001b[0m    \u001b[1;31m# restore state no matter what (e.g., KeyboardInterrupt)\u001b[0m\u001b[1;33m\u001b[0m\u001b[1;33m\u001b[0m\u001b[0m\n\u001b[0;32m    301\u001b[0m             \u001b[1;32mif\u001b[0m \u001b[0mtimeout\u001b[0m \u001b[1;32mis\u001b[0m \u001b[1;32mNone\u001b[0m\u001b[1;33m:\u001b[0m\u001b[1;33m\u001b[0m\u001b[1;33m\u001b[0m\u001b[0m\n\u001b[1;32m--> 302\u001b[1;33m                 \u001b[0mwaiter\u001b[0m\u001b[1;33m.\u001b[0m\u001b[0macquire\u001b[0m\u001b[1;33m(\u001b[0m\u001b[1;33m)\u001b[0m\u001b[1;33m\u001b[0m\u001b[1;33m\u001b[0m\u001b[0m\n\u001b[0m\u001b[0;32m    303\u001b[0m                 \u001b[0mgotit\u001b[0m \u001b[1;33m=\u001b[0m \u001b[1;32mTrue\u001b[0m\u001b[1;33m\u001b[0m\u001b[1;33m\u001b[0m\u001b[0m\n\u001b[0;32m    304\u001b[0m             \u001b[1;32melse\u001b[0m\u001b[1;33m:\u001b[0m\u001b[1;33m\u001b[0m\u001b[1;33m\u001b[0m\u001b[0m\n",
      "\u001b[1;31mKeyboardInterrupt\u001b[0m: "
     ]
    }
   ],
   "source": [
    "from sklearn.ensemble import RandomForestClassifier\n",
    "\n",
    "parameters={'n_estimators':range(50,300,10),\n",
    "            'criterion':['gini', 'entropy'],\n",
    "            'min_samples_split':range(1,10)}\n",
    "#parameters={'n_estimators':range(50,150,10)}\n",
    "# create GridSearchCV\n",
    "clf = GridSearchCV(RandomForestClassifier(), parameters, n_jobs=-1, verbose=3,\n",
    "                   cv=StratifiedKFold(n_splits=10, shuffle=True), scoring='f1_weighted')\n",
    "clf.fit(np.array(MFCC_df.MFCC.tolist()),le.transform(np.array(MFCC_df.class_label.tolist())))\n",
    "#clf.fit(x_train_random,y_train_random)\n",
    "#clf.fit(x_binary,y_binary)"
   ]
  },
  {
   "cell_type": "code",
   "execution_count": 29,
   "metadata": {},
   "outputs": [
    {
     "data": {
      "text/html": [
       "<div>\n",
       "<style scoped>\n",
       "    .dataframe tbody tr th:only-of-type {\n",
       "        vertical-align: middle;\n",
       "    }\n",
       "\n",
       "    .dataframe tbody tr th {\n",
       "        vertical-align: top;\n",
       "    }\n",
       "\n",
       "    .dataframe thead th {\n",
       "        text-align: right;\n",
       "    }\n",
       "</style>\n",
       "<table border=\"1\" class=\"dataframe\">\n",
       "  <thead>\n",
       "    <tr style=\"text-align: right;\">\n",
       "      <th></th>\n",
       "      <th>param_n_estimators</th>\n",
       "      <th>mean_test_score</th>\n",
       "      <th>std_test_score</th>\n",
       "    </tr>\n",
       "    <tr>\n",
       "      <th>rank_test_score</th>\n",
       "      <th></th>\n",
       "      <th></th>\n",
       "      <th></th>\n",
       "    </tr>\n",
       "  </thead>\n",
       "  <tbody>\n",
       "    <tr>\n",
       "      <th>1</th>\n",
       "      <td>70</td>\n",
       "      <td>0.885698</td>\n",
       "      <td>0.024194</td>\n",
       "    </tr>\n",
       "    <tr>\n",
       "      <th>2</th>\n",
       "      <td>130</td>\n",
       "      <td>0.885465</td>\n",
       "      <td>0.022576</td>\n",
       "    </tr>\n",
       "    <tr>\n",
       "      <th>3</th>\n",
       "      <td>110</td>\n",
       "      <td>0.884618</td>\n",
       "      <td>0.024236</td>\n",
       "    </tr>\n",
       "    <tr>\n",
       "      <th>4</th>\n",
       "      <td>140</td>\n",
       "      <td>0.884308</td>\n",
       "      <td>0.021893</td>\n",
       "    </tr>\n",
       "    <tr>\n",
       "      <th>5</th>\n",
       "      <td>120</td>\n",
       "      <td>0.880880</td>\n",
       "      <td>0.023152</td>\n",
       "    </tr>\n",
       "    <tr>\n",
       "      <th>6</th>\n",
       "      <td>80</td>\n",
       "      <td>0.880710</td>\n",
       "      <td>0.018822</td>\n",
       "    </tr>\n",
       "    <tr>\n",
       "      <th>7</th>\n",
       "      <td>90</td>\n",
       "      <td>0.878442</td>\n",
       "      <td>0.025389</td>\n",
       "    </tr>\n",
       "    <tr>\n",
       "      <th>8</th>\n",
       "      <td>100</td>\n",
       "      <td>0.878125</td>\n",
       "      <td>0.020510</td>\n",
       "    </tr>\n",
       "    <tr>\n",
       "      <th>9</th>\n",
       "      <td>50</td>\n",
       "      <td>0.876233</td>\n",
       "      <td>0.022396</td>\n",
       "    </tr>\n",
       "    <tr>\n",
       "      <th>10</th>\n",
       "      <td>60</td>\n",
       "      <td>0.867638</td>\n",
       "      <td>0.021592</td>\n",
       "    </tr>\n",
       "  </tbody>\n",
       "</table>\n",
       "</div>"
      ],
      "text/plain": [
       "                param_n_estimators  mean_test_score  std_test_score\n",
       "rank_test_score                                                    \n",
       "1                               70         0.885698        0.024194\n",
       "2                              130         0.885465        0.022576\n",
       "3                              110         0.884618        0.024236\n",
       "4                              140         0.884308        0.021893\n",
       "5                              120         0.880880        0.023152\n",
       "6                               80         0.880710        0.018822\n",
       "7                               90         0.878442        0.025389\n",
       "8                              100         0.878125        0.020510\n",
       "9                               50         0.876233        0.022396\n",
       "10                              60         0.867638        0.021592"
      ]
     },
     "execution_count": 29,
     "metadata": {},
     "output_type": "execute_result"
    }
   ],
   "source": [
    "# print the table of scores and parameters\n",
    "result=pd.DataFrame.from_dict(clf.cv_results_)\n",
    "#result=result.loc[:,[\"param_n_estimators\",\"param_criterion\",\"param_min_samples_split\",\"mean_test_score\",\"std_test_score\",\"rank_test_score\"]]\n",
    "result=result.loc[:,[\"param_n_estimators\",\"mean_test_score\",\"std_test_score\",\"rank_test_score\"]]\n",
    "result.sort_values(\"rank_test_score\",inplace=True)\n",
    "result.set_index([\"rank_test_score\"])[:20]"
   ]
  },
  {
   "cell_type": "markdown",
   "metadata": {},
   "source": [
    "## else"
   ]
  },
  {
   "cell_type": "code",
   "execution_count": 13,
   "metadata": {
    "ExecuteTime": {
     "end_time": "2021-02-05T01:41:22.337174Z",
     "start_time": "2021-02-05T01:41:14.615732Z"
    },
    "scrolled": true
   },
   "outputs": [
    {
     "data": {
      "text/plain": [
       "0.6021067311737929"
      ]
     },
     "execution_count": 13,
     "metadata": {},
     "output_type": "execute_result"
    },
    {
     "data": {
      "text/plain": [
       "0.6381236717960654"
      ]
     },
     "execution_count": 13,
     "metadata": {},
     "output_type": "execute_result"
    },
    {
     "data": {
      "text/plain": [
       "0.8649440676164641"
      ]
     },
     "execution_count": 13,
     "metadata": {},
     "output_type": "execute_result"
    }
   ],
   "source": [
    "from sklearn.linear_model import LogisticRegression \n",
    "from sklearn.naive_bayes import GaussianNB\n",
    "from sklearn.tree import DecisionTreeClassifier  \n",
    "from sklearn.ensemble import RandomForestClassifier\n",
    "from sklearn.svm import SVC\n",
    "\n",
    "\n",
    "np.mean(cross_val_score(GaussianNB(),x_train_strat,y_train_strat,cv=10,scoring='f1_weighted'))\n",
    "np.mean(cross_val_score(DecisionTreeClassifier(),x_train_strat,y_train_strat,cv=10,scoring='f1_weighted'))\n",
    "np.mean(cross_val_score(RandomForestClassifier(),x_train_strat,y_train_strat,cv=10,scoring='f1_weighted'))"
   ]
  },
  {
   "cell_type": "code",
   "execution_count": 48,
   "metadata": {
    "ExecuteTime": {
     "end_time": "2021-02-05T01:40:39.172705Z",
     "start_time": "2021-02-05T01:40:28.000066Z"
    }
   },
   "outputs": [
    {
     "name": "stderr",
     "output_type": "stream",
     "text": [
      "D:\\Python\\Anaconda3\\lib\\site-packages\\sklearn\\linear_model\\_logistic.py:762: ConvergenceWarning: lbfgs failed to converge (status=1):\n",
      "STOP: TOTAL NO. of ITERATIONS REACHED LIMIT.\n",
      "\n",
      "Increase the number of iterations (max_iter) or scale the data as shown in:\n",
      "    https://scikit-learn.org/stable/modules/preprocessing.html\n",
      "Please also refer to the documentation for alternative solver options:\n",
      "    https://scikit-learn.org/stable/modules/linear_model.html#logistic-regression\n",
      "  n_iter_i = _check_optimize_result(\n",
      "D:\\Python\\Anaconda3\\lib\\site-packages\\sklearn\\linear_model\\_logistic.py:762: ConvergenceWarning: lbfgs failed to converge (status=1):\n",
      "STOP: TOTAL NO. of ITERATIONS REACHED LIMIT.\n",
      "\n",
      "Increase the number of iterations (max_iter) or scale the data as shown in:\n",
      "    https://scikit-learn.org/stable/modules/preprocessing.html\n",
      "Please also refer to the documentation for alternative solver options:\n",
      "    https://scikit-learn.org/stable/modules/linear_model.html#logistic-regression\n",
      "  n_iter_i = _check_optimize_result(\n",
      "D:\\Python\\Anaconda3\\lib\\site-packages\\sklearn\\linear_model\\_logistic.py:762: ConvergenceWarning: lbfgs failed to converge (status=1):\n",
      "STOP: TOTAL NO. of ITERATIONS REACHED LIMIT.\n",
      "\n",
      "Increase the number of iterations (max_iter) or scale the data as shown in:\n",
      "    https://scikit-learn.org/stable/modules/preprocessing.html\n",
      "Please also refer to the documentation for alternative solver options:\n",
      "    https://scikit-learn.org/stable/modules/linear_model.html#logistic-regression\n",
      "  n_iter_i = _check_optimize_result(\n",
      "D:\\Python\\Anaconda3\\lib\\site-packages\\sklearn\\linear_model\\_logistic.py:762: ConvergenceWarning: lbfgs failed to converge (status=1):\n",
      "STOP: TOTAL NO. of ITERATIONS REACHED LIMIT.\n",
      "\n",
      "Increase the number of iterations (max_iter) or scale the data as shown in:\n",
      "    https://scikit-learn.org/stable/modules/preprocessing.html\n",
      "Please also refer to the documentation for alternative solver options:\n",
      "    https://scikit-learn.org/stable/modules/linear_model.html#logistic-regression\n",
      "  n_iter_i = _check_optimize_result(\n",
      "D:\\Python\\Anaconda3\\lib\\site-packages\\sklearn\\linear_model\\_logistic.py:762: ConvergenceWarning: lbfgs failed to converge (status=1):\n",
      "STOP: TOTAL NO. of ITERATIONS REACHED LIMIT.\n",
      "\n",
      "Increase the number of iterations (max_iter) or scale the data as shown in:\n",
      "    https://scikit-learn.org/stable/modules/preprocessing.html\n",
      "Please also refer to the documentation for alternative solver options:\n",
      "    https://scikit-learn.org/stable/modules/linear_model.html#logistic-regression\n",
      "  n_iter_i = _check_optimize_result(\n",
      "D:\\Python\\Anaconda3\\lib\\site-packages\\sklearn\\linear_model\\_logistic.py:762: ConvergenceWarning: lbfgs failed to converge (status=1):\n",
      "STOP: TOTAL NO. of ITERATIONS REACHED LIMIT.\n",
      "\n",
      "Increase the number of iterations (max_iter) or scale the data as shown in:\n",
      "    https://scikit-learn.org/stable/modules/preprocessing.html\n",
      "Please also refer to the documentation for alternative solver options:\n",
      "    https://scikit-learn.org/stable/modules/linear_model.html#logistic-regression\n",
      "  n_iter_i = _check_optimize_result(\n",
      "D:\\Python\\Anaconda3\\lib\\site-packages\\sklearn\\linear_model\\_logistic.py:762: ConvergenceWarning: lbfgs failed to converge (status=1):\n",
      "STOP: TOTAL NO. of ITERATIONS REACHED LIMIT.\n",
      "\n",
      "Increase the number of iterations (max_iter) or scale the data as shown in:\n",
      "    https://scikit-learn.org/stable/modules/preprocessing.html\n",
      "Please also refer to the documentation for alternative solver options:\n",
      "    https://scikit-learn.org/stable/modules/linear_model.html#logistic-regression\n",
      "  n_iter_i = _check_optimize_result(\n",
      "D:\\Python\\Anaconda3\\lib\\site-packages\\sklearn\\linear_model\\_logistic.py:762: ConvergenceWarning: lbfgs failed to converge (status=1):\n",
      "STOP: TOTAL NO. of ITERATIONS REACHED LIMIT.\n",
      "\n",
      "Increase the number of iterations (max_iter) or scale the data as shown in:\n",
      "    https://scikit-learn.org/stable/modules/preprocessing.html\n",
      "Please also refer to the documentation for alternative solver options:\n",
      "    https://scikit-learn.org/stable/modules/linear_model.html#logistic-regression\n",
      "  n_iter_i = _check_optimize_result(\n",
      "D:\\Python\\Anaconda3\\lib\\site-packages\\sklearn\\linear_model\\_logistic.py:762: ConvergenceWarning: lbfgs failed to converge (status=1):\n",
      "STOP: TOTAL NO. of ITERATIONS REACHED LIMIT.\n",
      "\n",
      "Increase the number of iterations (max_iter) or scale the data as shown in:\n",
      "    https://scikit-learn.org/stable/modules/preprocessing.html\n",
      "Please also refer to the documentation for alternative solver options:\n",
      "    https://scikit-learn.org/stable/modules/linear_model.html#logistic-regression\n",
      "  n_iter_i = _check_optimize_result(\n",
      "D:\\Python\\Anaconda3\\lib\\site-packages\\sklearn\\linear_model\\_logistic.py:762: ConvergenceWarning: lbfgs failed to converge (status=1):\n",
      "STOP: TOTAL NO. of ITERATIONS REACHED LIMIT.\n",
      "\n",
      "Increase the number of iterations (max_iter) or scale the data as shown in:\n",
      "    https://scikit-learn.org/stable/modules/preprocessing.html\n",
      "Please also refer to the documentation for alternative solver options:\n",
      "    https://scikit-learn.org/stable/modules/linear_model.html#logistic-regression\n",
      "  n_iter_i = _check_optimize_result(\n"
     ]
    },
    {
     "data": {
      "text/plain": [
       "0.7386867807494791"
      ]
     },
     "execution_count": 48,
     "metadata": {},
     "output_type": "execute_result"
    },
    {
     "data": {
      "text/plain": [
       "0.7477913425515055"
      ]
     },
     "execution_count": 48,
     "metadata": {},
     "output_type": "execute_result"
    },
    {
     "data": {
      "text/plain": [
       "0.4265858650292298"
      ]
     },
     "execution_count": 48,
     "metadata": {},
     "output_type": "execute_result"
    },
    {
     "data": {
      "text/plain": [
       "0.782603943533495"
      ]
     },
     "execution_count": 48,
     "metadata": {},
     "output_type": "execute_result"
    }
   ],
   "source": [
    "from sklearn.pipeline import make_pipeline\n",
    "from sklearn.preprocessing import StandardScaler\n",
    "\n",
    "LogisticRegression_pipe = make_pipeline(StandardScaler(), LogisticRegression(max_iter=200))\n",
    "\n",
    "np.mean(cross_val_score(LogisticRegression(max_iter=200),x_train_strat,y_train_strat,cv=10,scoring='f1_weighted'))\n",
    "np.mean(cross_val_score(LogisticRegression_pipe,x_train_strat,y_train_strat,cv=10,scoring='f1_weighted'))\n",
    "\n",
    "SVC_pipe = make_pipeline(StandardScaler(), SVC())\n",
    "np.mean(cross_val_score(SVC(),x_train_strat,y_train_strat,cv=10,scoring='f1_weighted'))\n",
    "np.mean(cross_val_score(SVC_pipe,x_train_strat,y_train_strat,cv=10,scoring='f1_weighted'))\n"
   ]
  },
  {
   "cell_type": "code",
   "execution_count": 14,
   "metadata": {
    "ExecuteTime": {
     "end_time": "2021-01-22T16:27:33.533660Z",
     "start_time": "2021-01-22T16:27:33.387651Z"
    }
   },
   "outputs": [
    {
     "data": {
      "text/plain": [
       "SVC()"
      ]
     },
     "execution_count": 14,
     "metadata": {},
     "output_type": "execute_result"
    },
    {
     "data": {
      "text/plain": [
       "array([17, 10,  4,  8,  8, 10, 25, 19,  6, 26,  9, 21, 25, 13, 25,  7, 22,\n",
       "        3,  6,  8, 26, 13, 30, 29,  6,  8,  9, 10, 10, 25, 25,  8, 25, 22,\n",
       "        8, 26, 25, 17, 29, 25,  5,  8,  8,  8, 26, 16, 25,  8, 25, 26, 25,\n",
       "        8,  8,  5, 26, 21, 19,  7, 25, 19, 25, 21, 25,  6, 25, 26,  8, 25,\n",
       "        5, 24, 26, 17, 21, 29, 17,  8,  8,  8,  6,  8,  3,  7, 27,  3, 30,\n",
       "       29, 27,  9, 30, 26, 25, 25, 25, 18,  6, 24, 25,  8,  5, 17, 25, 10,\n",
       "       26,  8, 25, 19, 17, 26, 26, 25, 10, 26, 21,  9, 13,  8, 29, 21, 20,\n",
       "        3, 26, 17,  8, 19,  8, 25, 21,  7, 26,  9,  9,  5,  6, 17,  0, 13,\n",
       "        6,  6, 19, 18,  7, 23, 16,  8,  5, 10, 21, 10,  5,  5, 25, 25,  7,\n",
       "        9,  6, 19, 22,  8, 20,  4, 20, 18, 19, 25, 17,  6,  3, 10,  8, 27,\n",
       "       25,  8, 25,  4, 26, 21, 18,  6,  3,  8, 10, 25, 25,  8,  8,  8, 26,\n",
       "       25, 17,  8, 25, 25,  8, 10,  8, 26, 10,  6, 17,  8, 18, 25, 30, 15,\n",
       "       26,  9, 25,  3, 25, 10, 26, 17, 10, 15, 22, 21, 10,  8,  8,  8, 19,\n",
       "       10, 25, 25,  3, 17, 17, 13, 17,  6, 19,  8, 21, 25,  0, 21, 25, 16,\n",
       "       21,  3, 13, 17, 19, 21,  8,  7, 25, 30, 18, 25, 20, 18, 17, 21,  7,\n",
       "       19,  9,  6, 25, 17, 22, 17, 25,  8, 19,  5, 20, 10, 13, 21, 25, 10,\n",
       "        8,  8,  7, 29, 10, 26, 24, 18, 26, 25, 26, 20,  5, 20,  3, 17, 18,\n",
       "       19, 25,  7, 25,  8, 26,  5, 10, 25, 25, 17, 25, 15, 25,  4, 10, 25,\n",
       "       17, 25,  5,  5, 10, 29,  0, 21,  8,  8, 10, 25, 29,  5, 25,  0, 26,\n",
       "       21,  8, 19, 26, 18,  7, 25], dtype=int64)"
      ]
     },
     "execution_count": 14,
     "metadata": {},
     "output_type": "execute_result"
    }
   ],
   "source": [
    "from sklearn.svm import SVC\n",
    "\n",
    "svm_clf = SVC()\n",
    "svm_clf.fit(x_train_strat,y_train_strat)\n",
    "svm_clf.predict(x_test_strat)"
   ]
  },
  {
   "cell_type": "code",
   "execution_count": 11,
   "metadata": {
    "ExecuteTime": {
     "end_time": "2021-01-22T18:23:03.515032Z",
     "start_time": "2021-01-22T18:23:03.242016Z"
    }
   },
   "outputs": [
    {
     "data": {
      "text/plain": [
       "0.4265858650292298"
      ]
     },
     "execution_count": 11,
     "metadata": {},
     "output_type": "execute_result"
    },
    {
     "data": {
      "text/plain": [
       "0.782603943533495"
      ]
     },
     "execution_count": 11,
     "metadata": {},
     "output_type": "execute_result"
    }
   ],
   "source": [
    "from sklearn.pipeline import make_pipeline\n",
    "from sklearn.preprocessing import StandardScaler\n",
    "\n",
    "SVC_pipe = make_pipeline(StandardScaler(), SVC())\n",
    "\n",
    "np.mean(cross_val_score(SVC(),\n",
    "                        x_train_strat,\n",
    "                        y_train_strat,cv=10,\n",
    "                        scoring='f1_weighted'))\n",
    "np.mean(cross_val_score(SVC_pipe,\n",
    "                        x_train_strat,\n",
    "                        y_train_strat,cv=10,\n",
    "                        scoring='f1_weighted'))"
   ]
  },
  {
   "cell_type": "code",
   "execution_count": null,
   "metadata": {},
   "outputs": [],
   "source": []
  }
 ],
 "metadata": {
  "kernelspec": {
   "display_name": "Python 3",
   "language": "python",
   "name": "python3"
  },
  "language_info": {
   "codemirror_mode": {
    "name": "ipython",
    "version": 3
   },
   "file_extension": ".py",
   "mimetype": "text/x-python",
   "name": "python",
   "nbconvert_exporter": "python",
   "pygments_lexer": "ipython3",
   "version": "3.8.3"
  },
  "toc": {
   "base_numbering": 1,
   "nav_menu": {},
   "number_sections": true,
   "sideBar": true,
   "skip_h1_title": false,
   "title_cell": "Table of Contents",
   "title_sidebar": "Contents",
   "toc_cell": false,
   "toc_position": {},
   "toc_section_display": true,
   "toc_window_display": false
  },
  "varInspector": {
   "cols": {
    "lenName": 16,
    "lenType": 16,
    "lenVar": 40
   },
   "kernels_config": {
    "python": {
     "delete_cmd_postfix": "",
     "delete_cmd_prefix": "del ",
     "library": "var_list.py",
     "varRefreshCmd": "print(var_dic_list())"
    },
    "r": {
     "delete_cmd_postfix": ") ",
     "delete_cmd_prefix": "rm(",
     "library": "var_list.r",
     "varRefreshCmd": "cat(var_dic_list()) "
    }
   },
   "types_to_exclude": [
    "module",
    "function",
    "builtin_function_or_method",
    "instance",
    "_Feature"
   ],
   "window_display": false
  }
 },
 "nbformat": 4,
 "nbformat_minor": 4
}
